{
 "cells": [
  {
   "cell_type": "code",
   "execution_count": null,
   "id": "f65eebc8",
   "metadata": {
    "collapsed": false,
    "pycharm": {
     "name": "#%%\n"
    }
   },
   "outputs": [],
   "source": [
    "import numpy as np\n",
    "from matplotlib import pyplot as plt\n",
    "image_path = \"D:/Studies/GL4/sem2/Traitement Image\\TPGL4/lab-image-processing/assets/not_treated.pgm\"\n",
    "image2_path = \"D:/Studies/GL4/sem2/Traitement Image\\TPGL4/lab-image-processing/assets/portraitWritten.pgm\""
   ]
  },
  {
   "cell_type": "code",
   "execution_count": null,
   "id": "d8110cf4",
   "metadata": {
    "collapsed": false,
    "pycharm": {
     "name": "#%%\n"
    }
   },
   "outputs": [],
   "source": [
    "def readPGM(image_path):\n",
    "    with open(image_path, \"rb\") as f:\n",
    "        assert(f.read(1) == b'P')\n",
    "        assert(f.read(1) in [b'2',b'5'])\n",
    "        assert(f.read(1) == b'\\n')\n",
    "        #ignore comments\n",
    "        byte = f.read(1)\n",
    "        if(byte == b'#'):\n",
    "            while(not byte == b'\\n'):\n",
    "                byte = f.read(1)\n",
    "        #read dimentions\n",
    "        width = b''\n",
    "        while(not byte == b' '):\n",
    "            width += byte\n",
    "            byte = f.read(1)\n",
    "        width = int(width.decode(\"utf-8\"))\n",
    "        height = b''\n",
    "        byte = f.read(1)\n",
    "        while(not byte == b'\\n'):\n",
    "            height += byte\n",
    "            byte = f.read(1)\n",
    "        height = int(height.decode(\"utf-8\"))\n",
    "        max_grayscale_value = b''\n",
    "        byte = f.read(1)\n",
    "        while(not byte == b'\\n'):\n",
    "            max_grayscale_value += byte\n",
    "            byte = f.read(1)\n",
    "        max_grayscale_value = int(max_grayscale_value.decode(\"utf-8\"))\n",
    "        array = np.empty((height, width), dtype=float)\n",
    "        for row in range(0, height):\n",
    "            for col in range(0, width):\n",
    "                array[row, col] = int.from_bytes(f.read(1), \"big\")\n",
    "        return array\n",
    "\n",
    "image = readPGM(image_path)\n",
    "plt.imshow(image, interpolation='nearest',cmap='gray')\n",
    "plt.show()"
   ]
  },
  {
   "cell_type": "code",
   "execution_count": null,
   "id": "4c664145",
   "metadata": {
    "collapsed": false,
    "pycharm": {
     "name": "#%%\n"
    }
   },
   "outputs": [],
   "source": [
    "def writePGM(matrix, name):\n",
    "    with open(name, \"wb\") as f:\n",
    "        f.write(b'P5\\n')\n",
    "        height, width = matrix.shape\n",
    "        max_grayscale_value = 255\n",
    "        f.write(str(width).encode(\"utf-8\") + b' ' + str(height).encode(\"utf-8\") + b'\\n' + str(max_grayscale_value).encode(\"utf-8\") + b'\\n')\n",
    "        for row in range(0, height):\n",
    "            for col in range(0, width):\n",
    "                f.write(int(matrix[row, col]).to_bytes(1, \"big\"))\n",
    "writePGM(image, image2_path)"
   ]
  },
  {
   "cell_type": "code",
   "execution_count": null,
   "id": "523d18aa",
   "metadata": {
    "collapsed": false,
    "pycharm": {
     "name": "#%%\n"
    }
   },
   "outputs": [],
   "source": [
    "def moyenne(image):\n",
    "    return np.average(image)\n",
    "print(f\"moyenne = {moyenne(image)}\")"
   ]
  },
  {
   "cell_type": "code",
   "execution_count": null,
   "id": "6b27eff6",
   "metadata": {
    "collapsed": false,
    "pycharm": {
     "name": "#%%\n"
    }
   },
   "outputs": [],
   "source": [
    "def ecart_type(image):\n",
    "    return np.std(image)\n",
    "print(f\"ecart-type = {ecart_type(image)}\")"
   ]
  },
  {
   "cell_type": "code",
   "execution_count": null,
   "id": "f8f3fbe9",
   "metadata": {
    "collapsed": false,
    "pycharm": {
     "name": "#%%\n"
    }
   },
   "outputs": [],
   "source": [
    "def histogram(image, show=True):\n",
    "    hist,bin = np.histogram(image.ravel(),256,[0,255])\n",
    "    if(show):\n",
    "        plt.xlim([0,255])\n",
    "        plt.plot(hist)\n",
    "        plt.title('histogram')\n",
    "        plt.show()\n",
    "    return hist\n",
    "histogram(image);"
   ]
  },
  {
   "cell_type": "code",
   "execution_count": null,
   "id": "a86485bc",
   "metadata": {
    "collapsed": false,
    "pycharm": {
     "name": "#%%\n"
    }
   },
   "outputs": [],
   "source": [
    "def histogram_cummulative(image, show=True):\n",
    "    hist = histogram(image, show=False)\n",
    "    hc = np.zeros(256,int)\n",
    "    hc[0] = hist[0]\n",
    "    for index in range(1,len(hist)): \n",
    "        hc[index]= hist[index] + hc[index -1]\n",
    "    if(show):\n",
    "        plt.xlim([0,255])\n",
    "        plt.plot(hc)\n",
    "        plt.title('histogram cumulative')\n",
    "        plt.show()\n",
    "    return hc\n",
    "histogram_cummulative(image);"
   ]
  }
 ],
 "metadata": {
  "kernelspec": {
   "display_name": "Python 3 (ipykernel)",
   "language": "python",
   "name": "python3"
  },
  "language_info": {
   "codemirror_mode": {
    "name": "ipython",
    "version": 3
   },
   "file_extension": ".py",
   "mimetype": "text/x-python",
   "name": "python",
   "nbconvert_exporter": "python",
   "pygments_lexer": "ipython3",
   "version": "3.9.7"
  }
 },
 "nbformat": 4,
 "nbformat_minor": 5
}
